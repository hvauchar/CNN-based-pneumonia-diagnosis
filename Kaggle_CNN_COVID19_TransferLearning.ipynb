{
  "nbformat": 4,
  "nbformat_minor": 0,
  "metadata": {
    "colab": {
      "name": "Kaggle-CNN-COVID19-TransferLearning.ipynb",
      "provenance": [],
      "collapsed_sections": [],
      "machine_shape": "hm",
      "authorship_tag": "ABX9TyM8iEGSVHa/WOX1tGVRndoh",
      "include_colab_link": true
    },
    "kernelspec": {
      "name": "python3",
      "display_name": "Python 3"
    },
    "accelerator": "TPU"
  },
  "cells": [
    {
      "cell_type": "markdown",
      "metadata": {
        "id": "view-in-github",
        "colab_type": "text"
      },
      "source": [
        "<a href=\"https://colab.research.google.com/github/hvauchar/SAMHAR-COVID19-Hackathon/blob/master/Kaggle_CNN_COVID19_TransferLearning.ipynb\" target=\"_parent\"><img src=\"https://colab.research.google.com/assets/colab-badge.svg\" alt=\"Open In Colab\"/></a>"
      ]
    },
    {
      "cell_type": "code",
      "metadata": {
        "id": "opbzo3JJvxiw",
        "colab_type": "code",
        "outputId": "479ce92a-4136-422f-87ac-eeae88c381f2",
        "colab": {
          "base_uri": "https://localhost:8080/",
          "height": 119
        }
      },
      "source": [
        "from google.colab import drive\n",
        "drive.mount('/content/gdrive')\n",
        "%cd /content/gdrive/My Drive/covid19\n",
        "!pwd\n",
        "!ls"
      ],
      "execution_count": 0,
      "outputs": [
        {
          "output_type": "stream",
          "text": [
            "Drive already mounted at /content/gdrive; to attempt to forcibly remount, call drive.mount(\"/content/gdrive\", force_remount=True).\n",
            "/content/gdrive/My Drive/covid19\n",
            "/content/gdrive/My Drive/covid19\n",
            "augmentation-Kaggle-CNN-COVID19.ipynb  DataAnalysis.ipynb\t  kaggle.ipynb\n",
            "chest-xray-pneumonia.zip\t       heart-data-download.ipynb  models\n",
            "CNN-COVID19.ipynb\t\t       Kaggle-CNN-COVID19.ipynb   train\n"
          ],
          "name": "stdout"
        }
      ]
    },
    {
      "cell_type": "markdown",
      "metadata": {
        "id": "U0W54yhjefk6",
        "colab_type": "text"
      },
      "source": [
        "**Import all the necessary packages required and Make sure your on Tensorflow version 2.2.0-rc3** "
      ]
    },
    {
      "cell_type": "code",
      "metadata": {
        "id": "JGIQ3AioxhmJ",
        "colab_type": "code",
        "outputId": "3163888d-433b-4058-b0e2-31ca7f43f009",
        "colab": {
          "base_uri": "https://localhost:8080/",
          "height": 88
        }
      },
      "source": [
        "import tensorflow as tf\n",
        "print(tf.__version__)\n",
        "import datetime\n",
        "from tensorflow.keras import regularizers\n",
        "from tensorflow.keras.models import Sequential\n",
        "from tensorflow.keras.layers import Dense, Conv2D, Flatten, Dropout, MaxPooling2D\n",
        "from tensorflow.keras.preprocessing.image import ImageDataGenerator\n",
        "from tensorflow.keras.models import Sequential, Model\n",
        "from tensorflow.keras.applications.vgg16 import VGG16, preprocess_input\n",
        "from tensorflow.keras.preprocessing.image import ImageDataGenerator,load_img, img_to_array\n",
        "from tensorflow.keras.models import Sequential\n",
        "from tensorflow.keras.layers import Dense, Conv2D, Flatten, Dropout, MaxPooling2D, SeparableConv2D, BatchNormalization\n",
        "from tensorflow.keras.layers import GlobalMaxPooling2D\n",
        "from tensorflow.keras.models import Model\n",
        "from tensorflow.keras.optimizers import Adam, SGD, RMSprop\n",
        "from tensorflow.keras.callbacks import ModelCheckpoint, Callback, EarlyStopping\n",
        "from tensorflow.keras.utils import to_categorical\n",
        "from sklearn.model_selection import train_test_split\n",
        "import cv2\n",
        "import seaborn as sns\n",
        "import os\n",
        "import random\n",
        "import numpy as np\n",
        "import pandas as pd\n",
        "import matplotlib.pyplot as plt\n",
        "import collections"
      ],
      "execution_count": 0,
      "outputs": [
        {
          "output_type": "stream",
          "text": [
            "2.2.0-rc3\n"
          ],
          "name": "stdout"
        },
        {
          "output_type": "stream",
          "text": [
            "/usr/local/lib/python3.6/dist-packages/statsmodels/tools/_testing.py:19: FutureWarning: pandas.util.testing is deprecated. Use the functions in the public API at pandas.testing instead.\n",
            "  import pandas.util.testing as tm\n"
          ],
          "name": "stderr"
        }
      ]
    },
    {
      "cell_type": "markdown",
      "metadata": {
        "id": "UY2c-KjdfPqt",
        "colab_type": "text"
      },
      "source": [
        "Download the kaggle dataset from this [link](https://www.kaggle.com/paultimothymooney/chest-xray-pneumonia) and put the zip file in folder with name train and then unzip the dataset "
      ]
    },
    {
      "cell_type": "code",
      "metadata": {
        "id": "6NQTOAyyxFJd",
        "colab_type": "code",
        "colab": {}
      },
      "source": [
        "path_train = 'train/chest_xray/train/'\n",
        "path_test = 'train/chest_xray/test/'\n",
        "path_val = 'train/chest_xray/val/'"
      ],
      "execution_count": 0,
      "outputs": []
    },
    {
      "cell_type": "markdown",
      "metadata": {
        "id": "Rz5YuefAgHAj",
        "colab_type": "text"
      },
      "source": [
        "Load the dataset and preprocess images by \n",
        "\n",
        "1.   resizing it (250x250) Note that we are resizing it to small size just because of limited computational resources ideally the size should not be the same.\n",
        "2.   Normalize Images by scaling pixels between 0 - 1 by dividing image by 255.\n",
        "3. Append the Lables and Images to a list and shuffel it make sure we wrote the logic of **Under-Sampling** the data with in the function.\n",
        "4. Reshape Images and lables.\n",
        "5. Create train and test set and return it.\n",
        "\n",
        "\n"
      ]
    },
    {
      "cell_type": "code",
      "metadata": {
        "id": "DYwWFRYyl871",
        "colab_type": "code",
        "colab": {}
      },
      "source": [
        "CATEGORIES = ['NORMAL','PNEUMONIA']\n",
        "IMG_SIZE=250\n",
        "def create_training_data(dirlist):\n",
        "  training_data=[]\n",
        "  c = 0\n",
        "  for DATADIR in dirlist:\n",
        "    category0 = CATEGORIES[0]\n",
        "    path = os.path.join(DATADIR,category0)\n",
        "    class_num = CATEGORIES.index(category0)\n",
        "    for img in os.listdir(path):\n",
        "      try:\n",
        "        img_array = cv2.imread(os.path.join(path,img),cv2.IMREAD_GRAYSCALE)\n",
        "        new_array = cv2.resize(img_array,(IMG_SIZE,IMG_SIZE))/255.0\n",
        "        training_data.append([new_array,class_num])\n",
        "        c += 1-\n",
        "      except Exception as e:\n",
        "        print(e)\n",
        "    category1 = CATEGORIES[1]\n",
        "    path = os.path.join(DATADIR,category1)\n",
        "    class_num = CATEGORIES.index(category1)\n",
        "    for img in os.listdir(path):\n",
        "      if(c>=0):\n",
        "        try:\n",
        "          img_array = cv2.imread(os.path.join(path,img),cv2.IMREAD_GRAYSCALE)\n",
        "          new_array = cv2.resize(img_array,(IMG_SIZE,IMG_SIZE))/255.0\n",
        "          training_data.append([new_array,class_num])\n",
        "          c -= 1\n",
        "        except Exception as e:\n",
        "          print(e)\n",
        "      else:\n",
        "        break\n",
        "  random.shuffle(training_data)\n",
        "  X=[]\n",
        "  Y=[]\n",
        "  for fetures, lable in training_data:\n",
        "    X.append(fetures)\n",
        "    Y.append(lable)\n",
        "  X=np.array(X).reshape(-1,IMG_SIZE,IMG_SIZE,1)\n",
        "  print(collections.Counter(Y))\n",
        "  return(train_test_split(X,np.array(Y).reshape(-1,1),test_size=0.3, random_state=42))\n",
        "dirlist = [path_val,path_test,path_train]"
      ],
      "execution_count": 0,
      "outputs": []
    },
    {
      "cell_type": "code",
      "metadata": {
        "id": "q1W4flK05B97",
        "colab_type": "code",
        "outputId": "afb21557-28e6-4986-a315-7de4d8afa7f2",
        "colab": {
          "base_uri": "https://localhost:8080/",
          "height": 289
        }
      },
      "source": [
        "X_train, X_test, y_train, y_test = create_training_data(dirlist)"
      ],
      "execution_count": 0,
      "outputs": [
        {
          "output_type": "stream",
          "text": [
            "\n",
            "train/chest_xray/val/\n",
            "\n",
            "============================================================================\n",
            "0\n",
            "\n",
            "train/chest_xray/test/\n",
            "\n",
            "============================================================================\n",
            "-1\n",
            "\n",
            "train/chest_xray/train/\n",
            "\n",
            "============================================================================\n",
            "-1\n",
            "Counter({1: 1584, 0: 1583})\n"
          ],
          "name": "stdout"
        }
      ]
    },
    {
      "cell_type": "code",
      "metadata": {
        "id": "SECYT-Am5jP_",
        "colab_type": "code",
        "outputId": "73921924-5175-4e68-e15f-380d3ebb40eb",
        "colab": {
          "base_uri": "https://localhost:8080/",
          "height": 85
        }
      },
      "source": [
        "for i in (X_train, X_test, y_train, y_test):\n",
        "  print(i.shape)"
      ],
      "execution_count": 0,
      "outputs": [
        {
          "output_type": "stream",
          "text": [
            "(2216, 250, 250, 1)\n",
            "(951, 250, 250, 1)\n",
            "(2216, 1)\n",
            "(951, 1)\n"
          ],
          "name": "stdout"
        }
      ]
    },
    {
      "cell_type": "markdown",
      "metadata": {
        "id": "wToqf5mbkCbq",
        "colab_type": "text"
      },
      "source": [
        "Define the model and compile it with Binary Crossentropy loss and Adam as optimizer "
      ]
    },
    {
      "cell_type": "code",
      "metadata": {
        "id": "0MQQV11Uc6LG",
        "colab_type": "code",
        "colab": {}
      },
      "source": [
        "model = Sequential()\n",
        "model.add(Conv2D(64, (3,3), input_shape=(IMG_SIZE, IMG_SIZE,1),activation='relu'))\n",
        "model.add(MaxPooling2D(pool_size=(2,2)))\n",
        "model.add(Conv2D(64, (3,3),activation='relu'))\n",
        "model.add(MaxPooling2D(pool_size=(2,2)))\n",
        "model.add(Flatten())\n",
        "model.add(Dense(64,activation='relu'))\n",
        "model.add(Dense(1,activation='sigmoid'))\n",
        "model.compile(loss=\"binary_crossentropy\",optimizer=\"adam\",metrics=[\"accuracy\"])"
      ],
      "execution_count": 0,
      "outputs": []
    },
    {
      "cell_type": "code",
      "metadata": {
        "id": "s7PsNWzIkgSi",
        "colab_type": "code",
        "outputId": "9d8310cc-2f7a-4da7-b31e-859c632f7b0b",
        "colab": {
          "base_uri": "https://localhost:8080/",
          "height": 391
        }
      },
      "source": [
        "model.summary()"
      ],
      "execution_count": 0,
      "outputs": [
        {
          "output_type": "stream",
          "text": [
            "Model: \"sequential_1\"\n",
            "_________________________________________________________________\n",
            "Layer (type)                 Output Shape              Param #   \n",
            "=================================================================\n",
            "conv2d_2 (Conv2D)            (None, 248, 248, 64)      640       \n",
            "_________________________________________________________________\n",
            "max_pooling2d_2 (MaxPooling2 (None, 124, 124, 64)      0         \n",
            "_________________________________________________________________\n",
            "conv2d_3 (Conv2D)            (None, 122, 122, 64)      36928     \n",
            "_________________________________________________________________\n",
            "max_pooling2d_3 (MaxPooling2 (None, 61, 61, 64)        0         \n",
            "_________________________________________________________________\n",
            "flatten_1 (Flatten)          (None, 238144)            0         \n",
            "_________________________________________________________________\n",
            "dense_2 (Dense)              (None, 64)                15241280  \n",
            "_________________________________________________________________\n",
            "dense_3 (Dense)              (None, 1)                 65        \n",
            "=================================================================\n",
            "Total params: 15,278,913\n",
            "Trainable params: 15,278,913\n",
            "Non-trainable params: 0\n",
            "_________________________________________________________________\n"
          ],
          "name": "stdout"
        }
      ]
    },
    {
      "cell_type": "code",
      "metadata": {
        "id": "SNuaD3xuWWOi",
        "colab_type": "code",
        "outputId": "bf56195a-d440-4ce7-9f66-2084cb8c82a8",
        "colab": {
          "base_uri": "https://localhost:8080/",
          "height": 187
        }
      },
      "source": [
        "history = model.fit(X_train,  y_train, epochs=5,validation_split=0.1)"
      ],
      "execution_count": 0,
      "outputs": [
        {
          "output_type": "stream",
          "text": [
            "Epoch 1/5\n",
            "63/63 [==============================] - 42s 675ms/step - loss: 0.7322 - accuracy: 0.7237 - val_loss: 0.2617 - val_accuracy: 0.9099\n",
            "Epoch 2/5\n",
            "63/63 [==============================] - 43s 676ms/step - loss: 0.2111 - accuracy: 0.9162 - val_loss: 0.5256 - val_accuracy: 0.8604\n",
            "Epoch 3/5\n",
            "63/63 [==============================] - 42s 663ms/step - loss: 0.1709 - accuracy: 0.9348 - val_loss: 0.3912 - val_accuracy: 0.8919\n",
            "Epoch 4/5\n",
            "63/63 [==============================] - 42s 664ms/step - loss: 0.1514 - accuracy: 0.9478 - val_loss: 0.2141 - val_accuracy: 0.9099\n",
            "Epoch 5/5\n",
            "63/63 [==============================] - 42s 671ms/step - loss: 0.1252 - accuracy: 0.9584 - val_loss: 0.2479 - val_accuracy: 0.9234\n"
          ],
          "name": "stdout"
        }
      ]
    },
    {
      "cell_type": "markdown",
      "metadata": {
        "id": "lrcWr8nE3zaZ",
        "colab_type": "text"
      },
      "source": [
        "Plot the training progress"
      ]
    },
    {
      "cell_type": "code",
      "metadata": {
        "id": "qMbZ9VkNRAeM",
        "colab_type": "code",
        "outputId": "e18f08b9-bae7-4e95-c78e-c293ac849691",
        "colab": {
          "base_uri": "https://localhost:8080/",
          "height": 655
        }
      },
      "source": [
        "acc = history.history['accuracy']\n",
        "val_acc = history.history['val_accuracy']\n",
        "\n",
        "loss=history.history['loss']\n",
        "val_loss=history.history['val_loss']\n",
        "\n",
        "epochs_range = range(5)\n",
        "plt.figure(figsize=(10,5))\n",
        "plt.plot(epochs_range, acc, label='Training Accuracy')\n",
        "plt.plot(epochs_range, val_acc, label='Validation Accuracy')\n",
        "plt.legend(loc='lower right')\n",
        "plt.title('Training and Validation Accuracy')\n",
        "plt.show()\n",
        "plt.figure(figsize=(10,5))\n",
        "plt.plot(epochs_range, loss, label='Training Loss')\n",
        "plt.plot(epochs_range, val_loss, label='Validation Loss')\n",
        "plt.legend(loc='upper right')\n",
        "plt.title('Training and Validation Loss')\n",
        "plt.show()"
      ],
      "execution_count": 0,
      "outputs": [
        {
          "output_type": "display_data",
          "data": {
            "image/png": "[encoded data removed]",
            "text/plain": [
              "<Figure size 720x360 with 1 Axes>"
            ]
          },
          "metadata": {
            "tags": [],
            "needs_background": "light"
          }
        },
        {
          "output_type": "display_data",
          "data": {
            "image/png": "[encoded data removed]",
            "text/plain": [
              "<Figure size 720x360 with 1 Axes>"
            ]
          },
          "metadata": {
            "tags": [],
            "needs_background": "light"
          }
        }
      ]
    },
    {
      "cell_type": "markdown",
      "metadata": {
        "id": "HRs6_LFE37c7",
        "colab_type": "text"
      },
      "source": [
        "Check model performance on test data"
      ]
    },
    {
      "cell_type": "code",
      "metadata": {
        "id": "W3EkFXmTRUll",
        "colab_type": "code",
        "outputId": "420b0061-f167-407f-9879-65598455714c",
        "colab": {
          "base_uri": "https://localhost:8080/",
          "height": 51
        }
      },
      "source": [
        "model.evaluate(X_test,y_test)"
      ],
      "execution_count": 0,
      "outputs": [
        {
          "output_type": "stream",
          "text": [
            "30/30 [==============================] - 2s 81ms/step - loss: 0.1584 - accuracy: 0.9422\n"
          ],
          "name": "stdout"
        },
        {
          "output_type": "execute_result",
          "data": {
            "text/plain": [
              "[0.15840044617652893, 0.9421661496162415]"
            ]
          },
          "metadata": {
            "tags": []
          },
          "execution_count": 11
        }
      ]
    },
    {
      "cell_type": "markdown",
      "metadata": {
        "id": "Mif9roES6Yah",
        "colab_type": "text"
      },
      "source": [
        "Conver grayscale image to RGB to make images compatible for **Transfer Learning**"
      ]
    },
    {
      "cell_type": "code",
      "metadata": {
        "id": "eVCI9AvFRCcP",
        "colab_type": "code",
        "outputId": "27665ce7-7d32-489c-9861-c4552eb76d75",
        "colab": {
          "base_uri": "https://localhost:8080/",
          "height": 34
        }
      },
      "source": [
        "tensorImg = tf.convert_to_tensor(X_test, dtype=None, dtype_hint=None, name=None)\n",
        "TestTensor = tf.image.grayscale_to_rgb(\n",
        "    tensorImg,\n",
        "    name=None\n",
        ")"
      ],
      "execution_count": 0,
      "outputs": [
        {
          "output_type": "stream",
          "text": [
            "<class 'tensorflow.python.framework.ops.EagerTensor'>\n"
          ],
          "name": "stdout"
        }
      ]
    },
    {
      "cell_type": "code",
      "metadata": {
        "id": "mcbor_erSgZG",
        "colab_type": "code",
        "colab": {}
      },
      "source": [
        "trainTensor = tf.convert_to_tensor(X_train, dtype=None, dtype_hint=None, name=None)\n",
        "Train_rbg = tf.image.grayscale_to_rgb(\n",
        "    tensorImg,\n",
        "    name=None\n",
        ")"
      ],
      "execution_count": 0,
      "outputs": []
    },
    {
      "cell_type": "markdown",
      "metadata": {
        "id": "c-yB1HON6oDY",
        "colab_type": "text"
      },
      "source": [
        "Create the base model from the pre-trained model **MobileNet V2**"
      ]
    },
    {
      "cell_type": "code",
      "metadata": {
        "id": "34sZxXlHPn2m",
        "colab_type": "code",
        "outputId": "f0c6514e-ce80-454b-d2bf-ecc9eadc7d02",
        "colab": {
          "base_uri": "https://localhost:8080/",
          "height": 54
        }
      },
      "source": [
        "IMG_SHAPE = (IMG_SIZE, IMG_SIZE, 3)\n",
        "base_model = tf.keras.applications.MobileNetV2(input_shape=IMG_SHAPE,\n",
        "                                               include_top=False,\n",
        "                                               weights='imagenet')"
      ],
      "execution_count": 0,
      "outputs": [
        {
          "output_type": "stream",
          "text": [
            "WARNING:tensorflow:`input_shape` is undefined or non-square, or `rows` is not in [96, 128, 160, 192, 224]. Weights for input shape (224, 224) will be loaded as the default.\n"
          ],
          "name": "stdout"
        }
      ]
    },
    {
      "cell_type": "markdown",
      "metadata": {
        "id": "rg5G6H2a6-hE",
        "colab_type": "text"
      },
      "source": [
        "Un-freeze the top layers of the model In most convolutional networks, the higher up a layer is, the more specialized it is. The first few layers learn very simple and generic features that generalize to almost all types of images. As you go higher up, the features are increasingly more specific to the dataset on which the model was trained. The goal of fine-tuning is to adapt these specialized features to work with the new dataset, rather than overwrite the generic learning."
      ]
    },
    {
      "cell_type": "code",
      "metadata": {
        "id": "hwz86E8KPsHd",
        "colab_type": "code",
        "colab": {}
      },
      "source": [
        "base_model.trainable = True\n",
        "fine_tune_at = 100\n",
        "for layer in base_model.layers[:fine_tune_at]:\n",
        "  layer.trainable =  False\n",
        "global_average_layer = tf.keras.layers.GlobalAveragePooling2D()\n",
        "prediction_layer = tf.keras.layers.Dense(1)\n",
        "model1 = tf.keras.Sequential([\n",
        "  base_model,\n",
        "  global_average_layer,\n",
        "  prediction_layer\n",
        "])\n",
        "base_learning_rate = 0.0001\n",
        "model1.compile(optimizer=tf.keras.optimizers.RMSprop(lr=base_learning_rate),\n",
        "              loss=tf.keras.losses.BinaryCrossentropy(from_logits=True),\n",
        "              metrics=['accuracy'])"
      ],
      "execution_count": 0,
      "outputs": []
    },
    {
      "cell_type": "code",
      "metadata": {
        "id": "h6Bp_2EKSURY",
        "colab_type": "code",
        "outputId": "d46452f2-681d-4d88-c9e5-84bcdd0b1438",
        "colab": {
          "base_uri": "https://localhost:8080/",
          "height": 527
        }
      },
      "source": [
        "history = model1.fit(Train_rbg,  y_train, epochs=15,validation_split=0.1)"
      ],
      "execution_count": 0,
      "outputs": [
        {
          "output_type": "stream",
          "text": [
            "Epoch 1/15\n",
            "27/27 [==============================] - 10s 375ms/step - loss: 0.0146 - accuracy: 1.0000 - val_loss: 1.7129 - val_accuracy: 0.4792\n",
            "Epoch 2/15\n",
            "27/27 [==============================] - 10s 368ms/step - loss: 0.0077 - accuracy: 0.9988 - val_loss: 1.1755 - val_accuracy: 0.4688\n",
            "Epoch 3/15\n",
            "27/27 [==============================] - 10s 368ms/step - loss: 0.0074 - accuracy: 0.9988 - val_loss: 1.6193 - val_accuracy: 0.4792\n",
            "Epoch 4/15\n",
            "27/27 [==============================] - 10s 361ms/step - loss: 0.0035 - accuracy: 0.9988 - val_loss: 1.3336 - val_accuracy: 0.5000\n",
            "Epoch 5/15\n",
            "27/27 [==============================] - 10s 376ms/step - loss: 0.0022 - accuracy: 1.0000 - val_loss: 1.6939 - val_accuracy: 0.4896\n",
            "Epoch 6/15\n",
            "27/27 [==============================] - 10s 371ms/step - loss: 0.0023 - accuracy: 1.0000 - val_loss: 3.9331 - val_accuracy: 0.4688\n",
            "Epoch 7/15\n",
            "27/27 [==============================] - 10s 387ms/step - loss: 0.0067 - accuracy: 0.9977 - val_loss: 4.3641 - val_accuracy: 0.4688\n",
            "Epoch 8/15\n",
            "27/27 [==============================] - 10s 380ms/step - loss: 0.0039 - accuracy: 1.0000 - val_loss: 3.1329 - val_accuracy: 0.4792\n",
            "Epoch 9/15\n",
            "27/27 [==============================] - 10s 387ms/step - loss: 0.0018 - accuracy: 1.0000 - val_loss: 3.1831 - val_accuracy: 0.4896\n",
            "Epoch 10/15\n",
            "27/27 [==============================] - 10s 377ms/step - loss: 7.3180e-04 - accuracy: 1.0000 - val_loss: 2.8492 - val_accuracy: 0.4896\n",
            "Epoch 11/15\n",
            "27/27 [==============================] - 10s 378ms/step - loss: 0.0053 - accuracy: 0.9988 - val_loss: 2.6200 - val_accuracy: 0.4896\n",
            "Epoch 12/15\n",
            "27/27 [==============================] - 11s 417ms/step - loss: 0.0019 - accuracy: 1.0000 - val_loss: 1.7018 - val_accuracy: 0.4896\n",
            "Epoch 13/15\n",
            "27/27 [==============================] - 10s 374ms/step - loss: 0.0075 - accuracy: 0.9965 - val_loss: 1.3301 - val_accuracy: 0.5000\n",
            "Epoch 14/15\n",
            "27/27 [==============================] - 10s 378ms/step - loss: 0.0146 - accuracy: 0.9953 - val_loss: 1.3209 - val_accuracy: 0.6042\n",
            "Epoch 15/15\n",
            "27/27 [==============================] - 10s 368ms/step - loss: 0.0023 - accuracy: 1.0000 - val_loss: 1.2938 - val_accuracy: 0.5833\n"
          ],
          "name": "stdout"
        }
      ]
    },
    {
      "cell_type": "code",
      "metadata": {
        "id": "mp3-TDyvUJxp",
        "colab_type": "code",
        "outputId": "183cbe79-7ddc-40c7-cbd4-a9957948339d",
        "colab": {
          "base_uri": "https://localhost:8080/",
          "height": 51
        }
      },
      "source": [
        "model1.evaluate(rbg,y_test)"
      ],
      "execution_count": 0,
      "outputs": [
        {
          "output_type": "stream",
          "text": [
            "30/30 [==============================] - 5s 166ms/step - loss: 1.0539 - accuracy: 0.6141\n"
          ],
          "name": "stdout"
        },
        {
          "output_type": "execute_result",
          "data": {
            "text/plain": [
              "[1.053870677947998, 0.6140904426574707]"
            ]
          },
          "metadata": {
            "tags": []
          },
          "execution_count": 36
        }
      ]
    },
    {
      "cell_type": "code",
      "metadata": {
        "id": "UeMPV3ccUVGs",
        "colab_type": "code",
        "outputId": "6d399a81-7cf2-40c1-d100-8536adb2ad7c",
        "colab": {
          "base_uri": "https://localhost:8080/",
          "height": 655
        }
      },
      "source": [
        "model1.evaluate(rbg,y_test)\n",
        "acc = history.history['accuracy']\n",
        "val_acc = history.history['val_accuracy']\n",
        "\n",
        "loss=history.history['loss']\n",
        "val_loss=history.history['val_loss']\n",
        "\n",
        "epochs_range = range(15)\n",
        "plt.figure(figsize=(10,5))\n",
        "plt.plot(epochs_range, acc, label='Training Accuracy')\n",
        "plt.plot(epochs_range, val_acc, label='Validation Accuracy')\n",
        "plt.legend(loc='lower right')\n",
        "plt.title('Training and Validation Accuracy')\n",
        "plt.show()\n",
        "plt.figure(figsize=(10,5))\n",
        "plt.plot(epochs_range, loss, label='Training Loss')\n",
        "plt.plot(epochs_range, val_loss, label='Validation Loss')\n",
        "plt.legend(loc='upper right')\n",
        "plt.title('Training and Validation Loss')\n",
        "plt.show()"
      ],
      "execution_count": 0,
      "outputs": [
        {
          "output_type": "display_data",
          "data": {
            "image/png": "[encoded data removed]",
            "text/plain": [
              "<Figure size 720x360 with 1 Axes>"
            ]
          },
          "metadata": {
            "tags": [],
            "needs_background": "light"
          }
        },
        {
          "output_type": "display_data",
          "data": {
            "image/png": "[encoded data removed]",
            "text/plain": [
              "<Figure size 720x360 with 1 Axes>"
            ]
          },
          "metadata": {
            "tags": [],
            "needs_background": "light"
          }
        }
      ]
    },
    {
      "cell_type": "markdown",
      "metadata": {
        "id": "YcqagnJ77UbN",
        "colab_type": "text"
      },
      "source": [
        "Do the same with other pre-trained architectures"
      ]
    },
    {
      "cell_type": "code",
      "metadata": {
        "id": "UL1kDiddU71T",
        "colab_type": "code",
        "outputId": "6beeac65-0ab7-4748-b002-e63840cd3ccb",
        "colab": {
          "base_uri": "https://localhost:8080/",
          "height": 34
        }
      },
      "source": [
        "base_model2 = VGG16(input_shape=IMG_SHAPE,include_top=False,weights='imagenet')\n",
        "base_model2.trainable = True\n",
        "print(\"Number of layers in the base model: \", len(base_model2.layers))\n",
        "fine_tune_at = 10\n",
        "for layer in base_model2.layers[:fine_tune_at]:\n",
        "  layer.trainable =  False\n",
        "global_average_layer = tf.keras.layers.GlobalAveragePooling2D()\n",
        "prediction_layer = tf.keras.layers.Dense(1)\n",
        "model2 = tf.keras.Sequential([\n",
        "  base_model2,\n",
        "  global_average_layer,\n",
        "  prediction_layer\n",
        "])\n",
        "model2.compile(optimizer='adam',\n",
        "              loss=tf.keras.losses.BinaryCrossentropy(from_logits=True),\n",
        "              metrics=['accuracy'])"
      ],
      "execution_count": 0,
      "outputs": [
        {
          "output_type": "stream",
          "text": [
            "Number of layers in the base model:  19\n"
          ],
          "name": "stdout"
        }
      ]
    },
    {
      "cell_type": "code",
      "metadata": {
        "id": "nEmGQTLVVzP7",
        "colab_type": "code",
        "outputId": "cd12eb6e-ac22-4314-d42a-d64cb73b592d",
        "colab": {
          "base_uri": "https://localhost:8080/",
          "height": 527
        }
      },
      "source": [
        "history = model2.fit(Train_rbg,  y_train, epochs=15,validation_split=0.1)"
      ],
      "execution_count": 0,
      "outputs": [
        {
          "output_type": "stream",
          "text": [
            "Epoch 1/15\n",
            "27/27 [==============================] - 64s 2s/step - loss: 1.3280 - accuracy: 0.5099 - val_loss: 0.6958 - val_accuracy: 0.5312\n",
            "Epoch 2/15\n",
            "27/27 [==============================] - 64s 2s/step - loss: 0.6928 - accuracy: 0.5170 - val_loss: 2.2072 - val_accuracy: 0.5312\n",
            "Epoch 3/15\n",
            "27/27 [==============================] - 64s 2s/step - loss: 0.7603 - accuracy: 0.5170 - val_loss: 0.6932 - val_accuracy: 0.5312\n",
            "Epoch 4/15\n",
            "27/27 [==============================] - 65s 2s/step - loss: 0.6931 - accuracy: 0.5170 - val_loss: 0.6931 - val_accuracy: 0.5312\n",
            "Epoch 5/15\n",
            "27/27 [==============================] - 64s 2s/step - loss: 0.6931 - accuracy: 0.5170 - val_loss: 0.6930 - val_accuracy: 0.5312\n",
            "Epoch 6/15\n",
            "27/27 [==============================] - 64s 2s/step - loss: 0.6930 - accuracy: 0.5170 - val_loss: 0.6929 - val_accuracy: 0.5312\n",
            "Epoch 7/15\n",
            "27/27 [==============================] - 64s 2s/step - loss: 0.6930 - accuracy: 0.5170 - val_loss: 0.6928 - val_accuracy: 0.5312\n",
            "Epoch 8/15\n",
            "27/27 [==============================] - 65s 2s/step - loss: 0.6930 - accuracy: 0.5170 - val_loss: 0.6927 - val_accuracy: 0.5312\n",
            "Epoch 9/15\n",
            "27/27 [==============================] - 64s 2s/step - loss: 0.6929 - accuracy: 0.5170 - val_loss: 0.6926 - val_accuracy: 0.5312\n",
            "Epoch 10/15\n",
            "27/27 [==============================] - 64s 2s/step - loss: 0.6929 - accuracy: 0.5170 - val_loss: 0.6925 - val_accuracy: 0.5312\n",
            "Epoch 11/15\n",
            "27/27 [==============================] - 64s 2s/step - loss: 0.6928 - accuracy: 0.5170 - val_loss: 0.6925 - val_accuracy: 0.5312\n",
            "Epoch 12/15\n",
            "27/27 [==============================] - 65s 2s/step - loss: 0.6928 - accuracy: 0.5170 - val_loss: 0.6924 - val_accuracy: 0.5312\n",
            "Epoch 13/15\n",
            "27/27 [==============================] - 65s 2s/step - loss: 0.6928 - accuracy: 0.5170 - val_loss: 0.6923 - val_accuracy: 0.5312\n",
            "Epoch 14/15\n",
            "27/27 [==============================] - 64s 2s/step - loss: 0.6928 - accuracy: 0.5170 - val_loss: 0.6922 - val_accuracy: 0.5312\n",
            "Epoch 15/15\n",
            "27/27 [==============================] - 65s 2s/step - loss: 0.6928 - accuracy: 0.5170 - val_loss: 0.6922 - val_accuracy: 0.5312\n"
          ],
          "name": "stdout"
        }
      ]
    },
    {
      "cell_type": "code",
      "metadata": {
        "id": "WUDCFT7EfWSF",
        "colab_type": "code",
        "outputId": "0aa7f569-e438-4ce2-8ae3-18ccaf911fe3",
        "colab": {
          "base_uri": "https://localhost:8080/",
          "height": 672
        }
      },
      "source": [
        "model2.evaluate(rbg,y_test)\n",
        "acc = history.history['accuracy']\n",
        "val_acc = history.history['val_accuracy']\n",
        "\n",
        "loss=history.history['loss']\n",
        "val_loss=history.history['val_loss']\n",
        "\n",
        "epochs_range = range(15)\n",
        "plt.figure(figsize=(10,5))\n",
        "plt.plot(epochs_range, acc, label='Training Accuracy')\n",
        "plt.plot(epochs_range, val_acc, label='Validation Accuracy')\n",
        "plt.legend(loc='lower right')\n",
        "plt.title('Training and Validation Accuracy')\n",
        "plt.show()\n",
        "plt.figure(figsize=(10,5))\n",
        "plt.plot(epochs_range, loss, label='Training Loss')\n",
        "plt.plot(epochs_range, val_loss, label='Validation Loss')\n",
        "plt.legend(loc='upper right')\n",
        "plt.title('Training and Validation Loss')\n",
        "plt.show()"
      ],
      "execution_count": 0,
      "outputs": [
        {
          "output_type": "stream",
          "text": [
            "30/30 [==============================] - 33s 1s/step - loss: 0.6940 - accuracy: 0.4784\n"
          ],
          "name": "stdout"
        },
        {
          "output_type": "display_data",
          "data": {
            "image/png": "[encoded data removed]",
            "text/plain": [
              "<Figure size 720x360 with 1 Axes>"
            ]
          },
          "metadata": {
            "tags": [],
            "needs_background": "light"
          }
        },
        {
          "output_type": "display_data",
          "data": {
            "image/png": "[encoded data removed]",
            "text/plain": [
              "<Figure size 720x360 with 1 Axes>"
            ]
          },
          "metadata": {
            "tags": [],
            "needs_background": "light"
          }
        }
      ]
    }
  ]
}